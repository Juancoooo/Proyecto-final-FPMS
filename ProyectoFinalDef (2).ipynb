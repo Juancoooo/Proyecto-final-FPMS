{
 "cells": [
  {
   "cell_type": "code",
   "execution_count": 2,
   "id": "5a66ff91-fe85-4617-85bc-6d50fe2c9921",
   "metadata": {},
   "outputs": [],
   "source": [
    "import numpy as np\n",
    "from scipy.fft import fft, ifft\n",
    "import matplotlib.pyplot as plt\n",
    "from scipy import signal\n",
    "from scipy.fft import fft, fftshift\n",
    "from scipy.io import wavfile\n",
    "import scipy.io.wavfile as waves\n",
    "import sounddevice as sd\n",
    "import librosa"
   ]
  },
  {
   "cell_type": "markdown",
   "id": "1b005a0e-71aa-4fc0-bb9d-f3f3291b1d36",
   "metadata": {},
   "source": [
    "## Importamos una melodia."
   ]
  },
  {
   "cell_type": "markdown",
   "id": "e5c4a1f6-7527-4829-9725-c80dc6e111f4",
   "metadata": {},
   "source": [
    "##### Exportamos una melodia de la libreria librosa.(sonidos de trompetas)"
   ]
  },
  {
   "cell_type": "code",
   "execution_count": 139,
   "id": "e264f94e-c70b-41ea-9567-d0431a283152",
   "metadata": {},
   "outputs": [],
   "source": [
    "filename = librosa.ex('trumpet')\n",
    "y, sr = librosa.load(filename,sr=44100,duration=50)  #melodia de trompetas con una frecuencia de muestreo de 44100 [hz]"
   ]
  },
  {
   "cell_type": "markdown",
   "id": "ee486deb-56f6-49da-a92c-29e8bf565c32",
   "metadata": {},
   "source": [
    "## Creamos la funcion STFT $X_l(k)$"
   ]
  },
  {
   "cell_type": "code",
   "execution_count": 140,
   "id": "c1cae284-6575-42d7-8fa0-72c31615add9",
   "metadata": {},
   "outputs": [],
   "source": [
    "#funcion STFT\n",
    "def Xlk(l,k):  #X_l(k)\n",
    "    \n",
    "    #Valores de las constantes dadas en el paper.\n",
    "    f_s=44100                  #frecuencia del sampleado.\n",
    "    M=2048                      #largo de la funcion ventana\n",
    "    N=8192                      #largo de la FFT\n",
    "    H=128                       #tamaño de salto(hop size)\n",
    "    j=1j                        #j=i (imaginario)\n",
    "    w = signal.windows.hann(M)  #ventana de Hann de largo M\n",
    "    \n",
    "    #Variables que defino para calcular la sumatoria.\n",
    "    N1=np.arange(M)       # N1=[0,1,...,M-1] largo M\n",
    "    T=np.zeros(M)         #  T=[0,0,...,0]   largo M\n",
    "    \n",
    "    #Escribimos como se define la sumatoria\n",
    "    for n in N1:\n",
    "        T[n]=w[n]*y[n+l*H]*np.exp((-j*2*np.pi*k*n)/N)     #terminos dentro de la sumatoria\n",
    "   \n",
    "    return sum(T)     #Retornamos X_l(k) para un l y k fijos pedidos al llamar la función.   "
   ]
  },
  {
   "cell_type": "markdown",
   "id": "769dde32-5dfd-49f6-b9b2-6353953d7fa5",
   "metadata": {},
   "source": [
    "##### Calculamos los valores de la STFT para l=1 y para cada k=0,1...,N-1."
   ]
  },
  {
   "cell_type": "code",
   "execution_count": 141,
   "id": "e6701cfc-14e1-4cbd-8615-639c2b73dd37",
   "metadata": {},
   "outputs": [
    {
     "name": "stderr",
     "output_type": "stream",
     "text": [
      "<ipython-input-140-a90d3baa952f>:18: ComplexWarning: Casting complex values to real discards the imaginary part\n",
      "  T[n]=w[n]*y[n+l*H]*np.exp((-j*2*np.pi*k*n)/N)     #terminos dentro de la sumatoria\n"
     ]
    }
   ],
   "source": [
    "N=8192\n",
    "K=np.arange(N)      #K=[0,1,...,N-1]\n",
    "STF1=np.zeros(N)   \n",
    "\n",
    "#En STF1 guardaremos el valor de la STFT para l=1 y k=0,1,...,N-1\n",
    "for k in K:\n",
    "    STF1[k]=Xlk(1,k)"
   ]
  },
  {
   "cell_type": "markdown",
   "id": "0acf111c-c7fd-4516-8ac9-81807058971f",
   "metadata": {},
   "source": [
    "##### Graficamos la STFT"
   ]
  },
  {
   "cell_type": "code",
   "execution_count": 142,
   "id": "fcbcb99a-bc74-496a-b415-e331fb0fadab",
   "metadata": {},
   "outputs": [
    {
     "data": {
      "text/plain": [
       "[<matplotlib.lines.Line2D at 0x2ad740661c0>]"
      ]
     },
     "execution_count": 142,
     "metadata": {},
     "output_type": "execute_result"
    },
    {
     "data": {
      "image/png": "[encoded data removed]",
      "text/plain": [
       "<Figure size 432x288 with 1 Axes>"
      ]
     },
     "metadata": {
      "needs_background": "light"
     },
     "output_type": "display_data"
    }
   ],
   "source": [
    "#graficamos    \n",
    "plt.plot(STF1)"
   ]
  },
  {
   "cell_type": "code",
   "execution_count": 143,
   "id": "a30c90bc-807a-41ca-8926-2a5cd77219de",
   "metadata": {},
   "outputs": [
    {
     "name": "stdout",
     "output_type": "stream",
     "text": [
      "116\n",
      "117\n",
      "230\n",
      "233\n",
      "234\n",
      "7958\n",
      "7959\n",
      "7962\n",
      "8075\n",
      "8076\n"
     ]
    }
   ],
   "source": [
    "#revisamos los valore sde k donde la funcion X_l(k) es mayor de 350.\n",
    "#(DONDE estan los picos)\n",
    "for k in K:\n",
    "    \n",
    "    if abs(STF1[k])>40:\n",
    "        print(k)"
   ]
  },
  {
   "cell_type": "markdown",
   "id": "065c2eb8-6426-4167-aac6-d3fae701b3c2",
   "metadata": {},
   "source": [
    "## Creamos la funcion del espectro de magnitud normalizada  $X_m(k)$\n",
    "\n"
   ]
  },
  {
   "cell_type": "code",
   "execution_count": 144,
   "id": "61d6aee4-abc8-48df-a8a2-60ad1bf67598",
   "metadata": {},
   "outputs": [],
   "source": [
    "#Escribimos la funcion X_m(k)\n",
    "def Xmk(k):\n",
    "    #Valores de las constantes dadas en el paper.\n",
    "    M=2048           #largo de la funcion ventana\n",
    "    N=8192           #largo de la FFT\n",
    "    w = signal.windows.hann(M)     #ventana de Hann de largo M\n",
    "    \n",
    "    #Variables que defino para calcular la sumatoria.\n",
    "    T=np.zeros(M)      #vector de 0 creamos para guardar los valores de la sumatoria del denominador.\n",
    "    N1=np.arange(M)       #N1=[0,1,...,M-1]\n",
    "    n_sample=np.arange(N)        #largo de la FFT\n",
    "    \n",
    "    #Escribimos como se define la sumatoria en el denominador de X_m(k)\n",
    "    for n in N1:\n",
    "        T[n]=w[n]\n",
    "    \n",
    "    #retornamos el valor de X_m(k)    \n",
    "    #return(2*abs(np.fft.fft(x(n_sample))[k])/sum(T))\n",
    "    lXl=abs(np.fft.fft(y,n=N))\n",
    "    return((2*lXl[k])/sum(T))"
   ]
  },
  {
   "cell_type": "code",
   "execution_count": 145,
   "id": "a695141e-f9b7-4a40-b328-bade188bcc8c",
   "metadata": {},
   "outputs": [],
   "source": [
    "#llenamos la funcion X_m(k) para k=0,...,N-1\n",
    "Xmkk=np.zeros(N)\n",
    "\n",
    "for k in K:\n",
    "    Xmkk[k]=Xmk(k)\n",
    "    "
   ]
  },
  {
   "cell_type": "code",
   "execution_count": 146,
   "id": "eee19c5f-3fbe-456d-b04e-5912cfe9072c",
   "metadata": {},
   "outputs": [
    {
     "data": {
      "text/plain": [
       "[<matplotlib.lines.Line2D at 0x2ad740c6760>]"
      ]
     },
     "execution_count": 146,
     "metadata": {},
     "output_type": "execute_result"
    },
    {
     "data": {
      "image/png": "[encoded data removed]",
      "text/plain": [
       "<Figure size 432x288 with 1 Axes>"
      ]
     },
     "metadata": {
      "needs_background": "light"
     },
     "output_type": "display_data"
    }
   ],
   "source": [
    "#Grafica funcion X_m(k)\n",
    "plt.plot(Xmkk)"
   ]
  },
  {
   "cell_type": "markdown",
   "id": "e219defc-957d-4977-8196-7796c37d0797",
   "metadata": {},
   "source": [
    "#### Buscamos los k donde la funcion $X_m(k)$ tiene los peaks. "
   ]
  },
  {
   "cell_type": "code",
   "execution_count": 147,
   "id": "40c7d799-9a5f-4dab-ad13-18afd2d540bf",
   "metadata": {},
   "outputs": [
    {
     "name": "stdout",
     "output_type": "stream",
     "text": [
      "232\n",
      "7960\n"
     ]
    }
   ],
   "source": [
    "#revisamos los valore sde k donde la funcion X_m(k) es mayor de 1.\n",
    "#(DONDE estan los picos)\n",
    "Peaks=[]  #guardaremos aca la coordenada k(k_m) donde quedaron nuestros picos\n",
    "\n",
    "for k in K:  \n",
    "    if Xmkk[k]>0.77:\n",
    "        print(k)\n",
    "        Peaks.append(k)    "
   ]
  },
  {
   "cell_type": "markdown",
   "id": "be0230ee-2b65-4054-8119-0e9d1268776d",
   "metadata": {},
   "source": [
    "#### Calculamos las frecuencias y amplitudes en los peaks, que necesitaremos más adelante para la función de saliencia."
   ]
  },
  {
   "cell_type": "code",
   "execution_count": 148,
   "id": "16404257-4684-41bc-8b87-58b429f434bd",
   "metadata": {},
   "outputs": [],
   "source": [
    "fhat=[]   #Lista que contendra los valores de fhat(frecuencias pico)\n",
    "ahat=[]   #Lista que contendra los valores de ahat(amplitudes pico)\n",
    "Aux=np.arange(len(Peaks))    #variable auxiliar para definir el for\n",
    "\n",
    "#LLenamos las listas calculando los valores como indica el paper.\n",
    "for m in Aux:\n",
    "    f_s=44100\n",
    "    fhat.append((Peaks[m]*f_s/N))\n",
    "    ahat.append(Xmk(Peaks[m]))\n"
   ]
  },
  {
   "cell_type": "code",
   "execution_count": 149,
   "id": "fbee2e8b-e935-4935-af5e-944eaa65a48c",
   "metadata": {},
   "outputs": [
    {
     "name": "stdout",
     "output_type": "stream",
     "text": [
      "frecuencias pico [1248.92578125, 42851.07421875]\n",
      "amplitudes pico [0.7917645568346814, 0.7917645568346814]\n"
     ]
    }
   ],
   "source": [
    "print(\"frecuencias pico\",fhat)\n",
    "print(\"amplitudes pico\",ahat)"
   ]
  },
  {
   "cell_type": "markdown",
   "id": "ff70dc4e-f22c-454d-a2cb-8666f8435529",
   "metadata": {},
   "source": [
    "### Definimos la funcion de bin $b(f_i)$"
   ]
  },
  {
   "cell_type": "code",
   "execution_count": 150,
   "id": "28adb413-838c-4b17-ae93-6b55d1b75b2d",
   "metadata": {},
   "outputs": [],
   "source": [
    "#definimos la funcion b(f_i)\n",
    "def b(f_i):\n",
    "    l_2=np.log2(f_i/13.75)\n",
    "    return((1200*(l_2-0.25)-2100+10)/10)"
   ]
  },
  {
   "cell_type": "code",
   "execution_count": 151,
   "id": "cef047d6-5e11-4679-8802-a357e8a35b85",
   "metadata": {},
   "outputs": [],
   "source": [
    "Bf_i=[]     #lista que guardara los valores de b(f_i) para las fecuencias pico.\n",
    "\n",
    "#llenamos la lista con los valores\n",
    "for f_i in fhat:\n",
    "    Bf_i.append(b(f_i))\n",
    "       "
   ]
  },
  {
   "cell_type": "markdown",
   "id": "89d21fe6-aaf7-4f7d-a891-9306b3e3022a",
   "metadata": {},
   "source": [
    "### Definimos la funcion de esquema de ponderación $g(n,h,f_i)$"
   ]
  },
  {
   "cell_type": "code",
   "execution_count": 152,
   "id": "32994935-26af-44c9-98ed-a1f20ba158c6",
   "metadata": {},
   "outputs": [],
   "source": [
    "#definimos la funcion g que necesitaremos para describir nuestra funcion de saliencia\n",
    "def g(n,h,fi):\n",
    "    alpha=0.8                   #alpha dado\n",
    "    delta=abs(b(fi/h)-n)/10     #delta que nos definen\n",
    "    if abs(delta)<=1:\n",
    "        gg=((np.cos(delta*np.pi/2))**2)*alpha**(h-1)\n",
    "        return(gg)\n",
    "    else:\n",
    "        return(0)\n",
    "    "
   ]
  },
  {
   "cell_type": "markdown",
   "id": "044e26a3-8dbd-4917-850a-a48ede38ef85",
   "metadata": {},
   "source": [
    "### Definimos el filtro de magnitud $e(m_i)$"
   ]
  },
  {
   "cell_type": "code",
   "execution_count": 153,
   "id": "e39258db-0c1a-48d9-b575-0f3b6e5ca395",
   "metadata": {},
   "outputs": [],
   "source": [
    "#definimos la funcion e que necesitaremos para describir nuestra funcion de saliencia\n",
    "def e(m_i):\n",
    "    gamma=40\n",
    "    m_M=max(ahat)          #magnitud del pico más grande\n",
    "    aux1=20*np.log10(m_M/m_i)\n",
    "    \n",
    "    if aux1<gamma:\n",
    "        return(1)\n",
    "    else:\n",
    "        return(0)"
   ]
  },
  {
   "cell_type": "markdown",
   "id": "dd3683d2-1a68-4cc0-9619-fa52f06a451c",
   "metadata": {},
   "source": [
    "# Creamos la funcion de saliencia $S(n)$"
   ]
  },
  {
   "cell_type": "code",
   "execution_count": 154,
   "id": "cdef46b6-a990-4574-920a-595194244a15",
   "metadata": {},
   "outputs": [],
   "source": [
    "#definimos la funcion de saliencia.\n",
    "def S(n):\n",
    "    N_h=20\n",
    "    beta=1\n",
    "    H=np.arange(N_h)+1    #H=[1,..,N_h] \n",
    "    I=np.arange(len(fhat))\n",
    "    \n",
    "    \n",
    "    AUX1=0\n",
    "    AUX2=0\n",
    "    AUX3=0\n",
    "    \n",
    "    for h in H:\n",
    "        for i in I:\n",
    "            AUX1=e(ahat[i])*g(n,h,fhat[i])*((ahat[i])**beta)\n",
    "            AUX2=AUX1+AUX2\n",
    "        AUX3=AUX2\n",
    "        AUX3=AUX2+AUX3\n",
    "    \n",
    "    return(AUX3)\n",
    "    \n"
   ]
  },
  {
   "cell_type": "markdown",
   "id": "9ba73447-9c98-46fa-81d6-8ad63e54c9dd",
   "metadata": {},
   "source": [
    "#### Calculamos los valores de la funcion de saliencia $S(n)$ para n=0,1,...,K-1"
   ]
  },
  {
   "cell_type": "code",
   "execution_count": 155,
   "id": "5cc76892-2983-4e3f-9ea2-54502d98641e",
   "metadata": {},
   "outputs": [],
   "source": [
    "Sn=[]\n",
    "for n in K:\n",
    "    Sn.append(S(n))"
   ]
  },
  {
   "cell_type": "markdown",
   "id": "2d699764-4ea5-43d4-a533-161fcd84867e",
   "metadata": {},
   "source": [
    "#### Graficamos la función de saliencia $S(n)$"
   ]
  },
  {
   "cell_type": "code",
   "execution_count": 156,
   "id": "7de7f41b-e7e9-4ebe-97f5-2d6afede73b8",
   "metadata": {},
   "outputs": [
    {
     "data": {
      "image/png": "[encoded data removed]",
      "text/plain": [
       "<Figure size 432x288 with 1 Axes>"
      ]
     },
     "metadata": {
      "needs_background": "light"
     },
     "output_type": "display_data"
    }
   ],
   "source": [
    "plt.plot(Sn)\n",
    "plt.ylim([0,8]);"
   ]
  },
  {
   "cell_type": "markdown",
   "id": "7b3769c6-813a-4b97-98b8-4fdcdf87e862",
   "metadata": {},
   "source": [
    "# AHORA HAREMOS EL MISMO PROCEDIMIENTO, PERO PARA OTRA SEÑAL "
   ]
  },
  {
   "cell_type": "markdown",
   "id": "90e45763-f92f-4a4f-937f-9d938fddc895",
   "metadata": {},
   "source": [
    "$$x(n)=sin(n)$$"
   ]
  },
  {
   "cell_type": "code",
   "execution_count": 208,
   "id": "31ff528c-a29f-4b55-bf35-e1cf88fc66d2",
   "metadata": {
    "tags": []
   },
   "outputs": [],
   "source": [
    "f0=44100\n",
    "#Creamos una señal\n",
    "def x(n):\n",
    "    #x=np.sin(2*np.pi*f0*n)+np.cos(2*np.pi*f1*n)\n",
    "    #x=np.sin(f0*n)+np.cos(f1*n)\n",
    "    #x=np.sin(2*np.pi*f0*n)+np.cos(2*np.pi*f0*n)\n",
    "    #x=np.cos(np.pi*n)\n",
    "    x=np.sin(n)\n",
    "    return(x)"
   ]
  },
  {
   "cell_type": "code",
   "execution_count": 209,
   "id": "15db1f0a-6ca0-45c5-9d99-31ca6d2ff441",
   "metadata": {
    "tags": []
   },
   "outputs": [
    {
     "name": "stderr",
     "output_type": "stream",
     "text": [
      "<ipython-input-209-014fffbf8e88>:18: ComplexWarning: Casting complex values to real discards the imaginary part\n",
      "  T[n]=w[n]*x(n+l*H)*np.exp((-j*2*np.pi*k*n)/N)     #terminos dentro de la sumatoria\n"
     ]
    },
    {
     "data": {
      "text/plain": [
       "[<matplotlib.lines.Line2D at 0x2ad768f0fa0>]"
      ]
     },
     "execution_count": 209,
     "metadata": {},
     "output_type": "execute_result"
    },
    {
     "data": {
      "image/png": "[encoded data removed]",
      "text/plain": [
       "<Figure size 432x288 with 1 Axes>"
      ]
     },
     "metadata": {
      "needs_background": "light"
     },
     "output_type": "display_data"
    }
   ],
   "source": [
    "#funcion STFT\n",
    "def Xlk(l,k):  #X_l(k)\n",
    "    \n",
    "    #Valores de las constantes dadas en el paper.\n",
    "    f_s=44100                  #frecuencia del sampleado.\n",
    "    M=2048                      #largo de la funcion ventana\n",
    "    N=8192                      #largo de la FFT\n",
    "    H=128                       #tamaño de salto(hop size)\n",
    "    j=1j                        #j=i (imaginario)\n",
    "    w = signal.windows.hann(M)  #ventana de Hann de largo M\n",
    "    \n",
    "    #Variables que defino para calcular la sumatoria.\n",
    "    N1=np.arange(M)       # N1=[0,1,...,M-1] largo M\n",
    "    T=np.zeros(M)         #  T=[0,0,...,0]   largo M\n",
    "    \n",
    "    #Escribimos como se define la sumatoria\n",
    "    for n in N1:\n",
    "        T[n]=w[n]*x(n+l*H)*np.exp((-j*2*np.pi*k*n)/N)     #terminos dentro de la sumatoria\n",
    "   \n",
    "    return sum(T)     #Retornamos X_l(k) para un l y k fijos pedidos al llamar la función.   \n",
    "\n",
    "######################################################################################################################\n",
    "\n",
    "N=8192\n",
    "K=np.arange(N)      #K=[0,1,...,N-1]\n",
    "STF1=np.zeros(N)   \n",
    "#En STF1 guardaremos el valor de la STFT para l=1 y k=0,1,...,N-1\n",
    "for k in K:\n",
    "    STF1[k]=Xlk(1,k)\n",
    "\n",
    "############################################################################################################################\n",
    "\n",
    "#graficamos    \n",
    "plt.plot(STF1)"
   ]
  },
  {
   "cell_type": "code",
   "execution_count": 178,
   "id": "33d4f743-d530-4776-a516-4808e0dac06d",
   "metadata": {},
   "outputs": [
    {
     "data": {
      "text/plain": [
       "[<matplotlib.lines.Line2D at 0x2ad6e4b1b80>]"
      ]
     },
     "execution_count": 178,
     "metadata": {},
     "output_type": "execute_result"
    },
    {
     "data": {
      "image/png": "[encoded data removed]",
      "text/plain": [
       "<Figure size 432x288 with 1 Axes>"
      ]
     },
     "metadata": {
      "needs_background": "light"
     },
     "output_type": "display_data"
    }
   ],
   "source": [
    "#Escribimos la funcion X_m(k)\n",
    "def Xmk(k):\n",
    "    #Valores de las constantes dadas en el paper.\n",
    "    M=2048           #largo de la funcion ventana\n",
    "    N=8192           #largo de la FFT\n",
    "    w = signal.windows.hann(M)     #ventana de Hann de largo M\n",
    "    \n",
    "    #Variables que defino para calcular la sumatoria.\n",
    "    T=np.zeros(M)      #vector de 0 creamos para guardar los valores de la sumatoria del denominador.\n",
    "    N1=np.arange(M)           #N1=[0,1,...,M-1]\n",
    "    n_sample=np.arange(N)        #largo de la FFT\n",
    "    \n",
    "    #Escribimos como se define la sumatoria en el denominador de X_m(k)\n",
    "    for n in N1:\n",
    "        T[n]=w[n]\n",
    "    \n",
    "    #retornamos el valor de X_m(k)    \n",
    "    return(2*abs(np.fft.fft(x(n_sample))[k])/sum(T))\n",
    "\n",
    "#########################################################################################################    \n",
    "#llenamos los valores de X_m(k)  para k=[0,1,...,N-1]\n",
    "Xmkk=np.zeros(N)\n",
    "\n",
    "for k in K:\n",
    "    Xmkk[k]=Xmk(k)\n",
    "\n",
    "#############################################################################################################    \n",
    "#Graficamos X_m(k)\n",
    "plt.plot(Xmkk)"
   ]
  },
  {
   "cell_type": "code",
   "execution_count": 179,
   "id": "f56dedfa-6de1-4827-b277-682a32267438",
   "metadata": {},
   "outputs": [
    {
     "name": "stdout",
     "output_type": "stream",
     "text": [
      "1304\n",
      "6888\n"
     ]
    }
   ],
   "source": [
    "#revisamos los valoreS de k donde la funcion X_m(k) es mayor de 1.(DONDE estan los picos)\n",
    "Peaks=[]  #guardaremos aca las coordenadas donde quedaron nuestros picos\n",
    "\n",
    "for k in K:  \n",
    "    if Xmkk[k]>5:\n",
    "        print(k)\n",
    "        Peaks.append(k)\n",
    "        \n",
    "###############################################    \n",
    "fhat=[]   #Lista que contendra los valores de fhat(frecuencias pico)\n",
    "ahat=[]   #Lista que contendra los valores de ahat(amplitudes pico)\n",
    "Aux=np.arange(len(Peaks))    #variable auxiliar para definir el for\n",
    "\n",
    "#LLenamos las listas calculando los valores como indica el paper.\n",
    "for m in Aux:\n",
    "    f_s=44100\n",
    "    fhat.append((Peaks[m]*f_s/N))\n",
    "    ahat.append(Xmk(Peaks[m]))"
   ]
  },
  {
   "cell_type": "code",
   "execution_count": 180,
   "id": "abe8a4d6-077e-41d7-80f7-482ea27275d1",
   "metadata": {},
   "outputs": [
    {
     "data": {
      "text/plain": [
       "[<matplotlib.lines.Line2D at 0x2ad6e140be0>]"
      ]
     },
     "execution_count": 180,
     "metadata": {},
     "output_type": "execute_result"
    },
    {
     "data": {
      "image/png": "[encoded data removed]",
      "text/plain": [
       "<Figure size 432x288 with 1 Axes>"
      ]
     },
     "metadata": {
      "needs_background": "light"
     },
     "output_type": "display_data"
    }
   ],
   "source": [
    "Sn=[]\n",
    "for n in K:\n",
    "    Sn.append(S(n))\n",
    "########################################################################  \n",
    "plt.plot(Sn)"
   ]
  },
  {
   "cell_type": "markdown",
   "id": "ed85502c-9844-4b55-855d-11ef6007b077",
   "metadata": {},
   "source": [
    "# ÚLTIMA SEÑAL QUE ANALIZAREMOS"
   ]
  },
  {
   "cell_type": "markdown",
   "id": "414fcdfe-1f99-4867-bf7d-621ad97a4e86",
   "metadata": {},
   "source": [
    "$$x(n)=cos(n)$$"
   ]
  },
  {
   "cell_type": "code",
   "execution_count": 207,
   "id": "f874b9e0-b727-4713-87db-526d2750598d",
   "metadata": {},
   "outputs": [
    {
     "name": "stderr",
     "output_type": "stream",
     "text": [
      "<ipython-input-205-014fffbf8e88>:18: ComplexWarning: Casting complex values to real discards the imaginary part\n",
      "  T[n]=w[n]*x(n+l*H)*np.exp((-j*2*np.pi*k*n)/N)     #terminos dentro de la sumatoria\n"
     ]
    },
    {
     "data": {
      "text/plain": [
       "[<matplotlib.lines.Line2D at 0x2ad76889820>]"
      ]
     },
     "execution_count": 207,
     "metadata": {},
     "output_type": "execute_result"
    },
    {
     "data": {
      "image/png": "[encoded data removed]",
      "text/plain": [
       "<Figure size 432x288 with 1 Axes>"
      ]
     },
     "metadata": {
      "needs_background": "light"
     },
     "output_type": "display_data"
    }
   ],
   "source": [
    "N=8192\n",
    "K=np.arange(N)      #K=[0,1,...,N-1]\n",
    "STF1=np.zeros(N)   \n",
    "#En STF1 guardaremos el valor de la STFT para l=1 y k=0,1,...,N-1\n",
    "for k in K:\n",
    "    STF1[k]=Xlk(1,k)\n",
    "\n",
    "############################################################################################################################\n",
    "\n",
    "#graficamos    \n",
    "plt.plot(STF1)"
   ]
  },
  {
   "cell_type": "code",
   "execution_count": 202,
   "id": "1167316b-bf8a-47c2-97c1-c5fce145a643",
   "metadata": {},
   "outputs": [
    {
     "data": {
      "text/plain": [
       "[<matplotlib.lines.Line2D at 0x2ad76749790>]"
      ]
     },
     "execution_count": 202,
     "metadata": {},
     "output_type": "execute_result"
    },
    {
     "data": {
      "image/png": "[encoded data removed]",
      "text/plain": [
       "<Figure size 432x288 with 1 Axes>"
      ]
     },
     "metadata": {
      "needs_background": "light"
     },
     "output_type": "display_data"
    }
   ],
   "source": [
    "#llenamos los valores de X_m(k)  para k=[0,1,...,N-1]\n",
    "Xmkk=np.zeros(N)\n",
    "\n",
    "for k in K:\n",
    "    Xmkk[k]=Xmk(k)\n",
    "\n",
    "#############################################################################################################    \n",
    "#Graficamos X_m(k)\n",
    "plt.plot(Xmkk)"
   ]
  },
  {
   "cell_type": "code",
   "execution_count": 203,
   "id": "f4b05e72-3a22-44f4-85b3-40a2d60b6cab",
   "metadata": {},
   "outputs": [
    {
     "name": "stdout",
     "output_type": "stream",
     "text": [
      "4096\n"
     ]
    }
   ],
   "source": [
    "#revisamos los valoreS de k donde la funcion X_m(k) es mayor de 1.(DONDE estan los picos)\n",
    "Peaks=[]  #guardaremos aca las coordenadas donde quedaron nuestros picos\n",
    "\n",
    "for k in K:  \n",
    "    if Xmkk[k]>3:\n",
    "        print(k)\n",
    "        Peaks.append(k)\n",
    "        \n",
    "##########################################################\n",
    "\n",
    "fhat=[]   #Lista que contendra los valores de fhat(frecuencias pico)\n",
    "ahat=[]   #Lista que contendra los valores de ahat(amplitudes pico)\n",
    "Aux=np.arange(len(Peaks))    #variable auxiliar para definir el for\n",
    "\n",
    "#LLenamos las listas calculando los valores como indica el paper.\n",
    "for m in Aux:\n",
    "    f_s=44100\n",
    "    fhat.append((Peaks[m]*f_s/N))\n",
    "    ahat.append(Xmk(Peaks[m]))"
   ]
  },
  {
   "cell_type": "code",
   "execution_count": 204,
   "id": "45b7319a-9d8a-4045-b724-114fab7449dc",
   "metadata": {},
   "outputs": [
    {
     "data": {
      "text/plain": [
       "[<matplotlib.lines.Line2D at 0x2ad767bb460>]"
      ]
     },
     "execution_count": 204,
     "metadata": {},
     "output_type": "execute_result"
    },
    {
     "data": {
      "image/png": "[encoded data removed]",
      "text/plain": [
       "<Figure size 432x288 with 1 Axes>"
      ]
     },
     "metadata": {
      "needs_background": "light"
     },
     "output_type": "display_data"
    }
   ],
   "source": [
    "Sn=[]\n",
    "for n in K:\n",
    "    Sn.append(S(n))\n",
    "########################################################################  \n",
    "plt.plot(Sn)"
   ]
  },
  {
   "cell_type": "code",
   "execution_count": null,
   "id": "c8daa333-c3d9-4523-a806-d5491fffcace",
   "metadata": {},
   "outputs": [],
   "source": []
  }
 ],
 "metadata": {
  "kernelspec": {
   "display_name": "Python 3",
   "language": "python",
   "name": "python3"
  },
  "language_info": {
   "codemirror_mode": {
    "name": "ipython",
    "version": 3
   },
   "file_extension": ".py",
   "mimetype": "text/x-python",
   "name": "python",
   "nbconvert_exporter": "python",
   "pygments_lexer": "ipython3",
   "version": "3.9.2"
  }
 },
 "nbformat": 4,
 "nbformat_minor": 5
}
